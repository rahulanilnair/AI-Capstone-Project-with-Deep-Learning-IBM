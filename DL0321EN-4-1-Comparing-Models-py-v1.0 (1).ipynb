{
 "cells": [
  {
   "cell_type": "markdown",
   "metadata": {
    "button": false,
    "new_sheet": false,
    "run_control": {
     "read_only": false
    }
   },
   "source": [
    "<a href=\"https://cognitiveclass.ai\"><img src = \"https://s3-api.us-geo.objectstorage.softlayer.net/cf-courses-data/CognitiveClass/Logos/organization_logo/organization_logo.png\" width = 400> </a>\n",
    "\n",
    "<h1 align=center><font size = 5>Peer Review Final Assignment</font></h1>"
   ]
  },
  {
   "cell_type": "markdown",
   "metadata": {
    "button": false,
    "new_sheet": false,
    "run_control": {
     "read_only": false
    }
   },
   "source": [
    "## Introduction\n"
   ]
  },
  {
   "cell_type": "markdown",
   "metadata": {
    "button": false,
    "new_sheet": false,
    "run_control": {
     "read_only": false
    }
   },
   "source": [
    "In this lab, you will build an image classifier using the VGG16 pre-trained model, and you will evaluate it and compare its performance to the model we built in the last module using the ResNet50 pre-trained model. Good luck!"
   ]
  },
  {
   "cell_type": "markdown",
   "metadata": {
    "button": false,
    "new_sheet": false,
    "run_control": {
     "read_only": false
    }
   },
   "source": [
    "## Table of Contents\n",
    "\n",
    "<div class=\"alert alert-block alert-info\" style=\"margin-top: 20px\">\n",
    "\n",
    "<font size = 3>    \n",
    "\n",
    "1. <a href=\"#item41\">Download Data \n",
    "2. <a href=\"#item42\">Part 1</a>\n",
    "3. <a href=\"#item43\">Part 2</a>  \n",
    "4. <a href=\"#item44\">Part 3</a>  \n",
    "\n",
    "</font>\n",
    "    \n",
    "</div>"
   ]
  },
  {
   "cell_type": "markdown",
   "metadata": {
    "button": false,
    "new_sheet": false,
    "run_control": {
     "read_only": false
    }
   },
   "source": [
    "   "
   ]
  },
  {
   "cell_type": "markdown",
   "metadata": {},
   "source": [
    "<a id=\"item41\"></a>"
   ]
  },
  {
   "cell_type": "markdown",
   "metadata": {},
   "source": [
    "## Download Data"
   ]
  },
  {
   "cell_type": "markdown",
   "metadata": {},
   "source": [
    "Use the <code>wget</code> command to download the data for this assignment from here: https://s3-api.us-geo.objectstorage.softlayer.net/cf-courses-data/CognitiveClass/DL0321EN/data/concrete_data_week4.zip"
   ]
  },
  {
   "cell_type": "markdown",
   "metadata": {},
   "source": [
    "Use the following cells to download the data."
   ]
  },
  {
   "cell_type": "code",
   "execution_count": null,
   "metadata": {},
   "outputs": [],
   "source": []
  },
  {
   "cell_type": "code",
   "execution_count": null,
   "metadata": {},
   "outputs": [],
   "source": []
  },
  {
   "cell_type": "markdown",
   "metadata": {},
   "source": [
    "After you unzip the data, you fill find the data has already been divided into a train, validation, and test sets."
   ]
  },
  {
   "cell_type": "markdown",
   "metadata": {},
   "source": [
    "  "
   ]
  },
  {
   "cell_type": "markdown",
   "metadata": {
    "button": false,
    "new_sheet": false,
    "run_control": {
     "read_only": false
    }
   },
   "source": [
    "<a id=\"item42\"></a>"
   ]
  },
  {
   "cell_type": "markdown",
   "metadata": {},
   "source": [
    "## Part 1"
   ]
  },
  {
   "cell_type": "markdown",
   "metadata": {},
   "source": [
    "In this part, you will design a classifier using the VGG16 pre-trained model. Just like the ResNet50 model, you can import the model <code>VGG16</code> from <code>keras.applications</code>."
   ]
  },
  {
   "cell_type": "markdown",
   "metadata": {},
   "source": [
    "You will essentially build your classifier as follows:\n",
    "1. Import libraries, modules, and packages you will need. Make sure to import the *preprocess_input* function from <code>keras.applications.vgg16</code>.\n",
    "2. Use a batch size of 100 images for both training and validation.\n",
    "3. Construct an ImageDataGenerator for the training set and another one for the validation set. VGG16 was originally trained on 224 × 224 images, so make sure to address that when defining the ImageDataGenerator instances.\n",
    "4. Create a sequential model using Keras. Add VGG16 model to it and dense layer.\n",
    "5. Compile the mode using the adam optimizer and the categorical_crossentropy loss function.\n",
    "6. Fit the model on the augmented data using the ImageDataGenerators."
   ]
  },
  {
   "cell_type": "markdown",
   "metadata": {},
   "source": [
    "Use the following cells to create your classifier."
   ]
  },
  {
   "cell_type": "code",
   "execution_count": 11,
   "metadata": {},
   "outputs": [],
   "source": [
    "import os\n",
    "import numpy as np\n",
    "import matplotlib.pyplot as plt\n",
    "\n",
    "from PIL import Image\n",
    "import keras\n",
    "from keras.preprocessing.image import ImageDataGenerator\n",
    "from keras.models import Sequential\n",
    "from keras.layers import Dense\n",
    "from keras.applications import VGG16\n",
    "from keras.applications.vgg16 import preprocess_input"
   ]
  },
  {
   "cell_type": "code",
   "execution_count": 12,
   "metadata": {},
   "outputs": [],
   "source": [
    "num_classes = 2\n",
    "\n",
    "image_resize = 224\n",
    "\n",
    "batch_size_training = 100\n",
    "batch_size_validation = 100"
   ]
  },
  {
   "cell_type": "code",
   "execution_count": 13,
   "metadata": {
    "scrolled": true
   },
   "outputs": [],
   "source": [
    "data_generator = ImageDataGenerator(\n",
    "    preprocessing_function=preprocess_input,\n",
    ")"
   ]
  },
  {
   "cell_type": "code",
   "execution_count": 14,
   "metadata": {},
   "outputs": [
    {
     "name": "stdout",
     "output_type": "stream",
     "text": [
      "Found 30001 images belonging to 2 classes.\n"
     ]
    }
   ],
   "source": [
    "train_generator = data_generator.flow_from_directory(\n",
    "    'C:/Users/Rahul Anil Nair/Downloads/concrete_data_week4/concrete_data_week4/train',\n",
    "    target_size=(image_resize, image_resize),\n",
    "    batch_size=batch_size_training,\n",
    "    class_mode='categorical')"
   ]
  },
  {
   "cell_type": "code",
   "execution_count": 15,
   "metadata": {},
   "outputs": [
    {
     "name": "stdout",
     "output_type": "stream",
     "text": [
      "Found 9501 images belonging to 2 classes.\n"
     ]
    }
   ],
   "source": [
    "validation_generator = data_generator.flow_from_directory(\n",
    "    'C:/Users/Rahul Anil Nair/Downloads/concrete_data_week4/concrete_data_week4/valid',\n",
    "    target_size=(image_resize, image_resize),\n",
    "    batch_size=batch_size_training,\n",
    "    class_mode='categorical')"
   ]
  },
  {
   "cell_type": "code",
   "execution_count": 17,
   "metadata": {},
   "outputs": [],
   "source": [
    "model1 = Sequential()\n",
    "model1.add(VGG16(\n",
    "    include_top=False,\n",
    "    pooling='avg',\n",
    "    weights=None,\n",
    "    ))\n",
    "model1.add(Dense(num_classes, activation='softmax'))"
   ]
  },
  {
   "cell_type": "code",
   "execution_count": 18,
   "metadata": {},
   "outputs": [
    {
     "data": {
      "text/plain": [
       "[<keras.engine.input_layer.InputLayer at 0x227a1e138b0>,\n",
       " <keras.layers.convolutional.conv2d.Conv2D at 0x227b662bbb0>,\n",
       " <keras.layers.convolutional.conv2d.Conv2D at 0x227b662bca0>,\n",
       " <keras.layers.pooling.max_pooling2d.MaxPooling2D at 0x227ad2a0820>,\n",
       " <keras.layers.convolutional.conv2d.Conv2D at 0x227a1dd7850>,\n",
       " <keras.layers.convolutional.conv2d.Conv2D at 0x227b6835fa0>,\n",
       " <keras.layers.pooling.max_pooling2d.MaxPooling2D at 0x227b683bfa0>,\n",
       " <keras.layers.convolutional.conv2d.Conv2D at 0x227b683bbe0>,\n",
       " <keras.layers.convolutional.conv2d.Conv2D at 0x227b6835fd0>,\n",
       " <keras.layers.convolutional.conv2d.Conv2D at 0x227b68405e0>,\n",
       " <keras.layers.pooling.max_pooling2d.MaxPooling2D at 0x227b6844c70>,\n",
       " <keras.layers.convolutional.conv2d.Conv2D at 0x227b66331c0>,\n",
       " <keras.layers.convolutional.conv2d.Conv2D at 0x227b68441c0>,\n",
       " <keras.layers.convolutional.conv2d.Conv2D at 0x227b68547f0>,\n",
       " <keras.layers.pooling.max_pooling2d.MaxPooling2D at 0x227b6633e20>,\n",
       " <keras.layers.convolutional.conv2d.Conv2D at 0x227b6854dc0>,\n",
       " <keras.layers.convolutional.conv2d.Conv2D at 0x227b6859a90>,\n",
       " <keras.layers.convolutional.conv2d.Conv2D at 0x227b68608e0>,\n",
       " <keras.layers.pooling.max_pooling2d.MaxPooling2D at 0x227b68685b0>,\n",
       " <keras.layers.pooling.global_average_pooling2d.GlobalAveragePooling2D at 0x227b6868af0>]"
      ]
     },
     "execution_count": 18,
     "metadata": {},
     "output_type": "execute_result"
    }
   ],
   "source": [
    "model1.layers[0].layers"
   ]
  },
  {
   "cell_type": "code",
   "execution_count": 19,
   "metadata": {},
   "outputs": [],
   "source": [
    "model1.compile(optimizer='adam', loss='categorical_crossentropy', metrics=['accuracy'])"
   ]
  },
  {
   "cell_type": "code",
   "execution_count": 45,
   "metadata": {},
   "outputs": [
    {
     "name": "stdout",
     "output_type": "stream",
     "text": [
      "Model: \"sequential_2\"\n",
      "_________________________________________________________________\n",
      " Layer (type)                Output Shape              Param #   \n",
      "=================================================================\n",
      " vgg16 (Functional)          (None, 512)               14714688  \n",
      "                                                                 \n",
      " dense_1 (Dense)             (None, 2)                 1026      \n",
      "                                                                 \n",
      "=================================================================\n",
      "Total params: 14,715,714\n",
      "Trainable params: 14,715,714\n",
      "Non-trainable params: 0\n",
      "_________________________________________________________________\n"
     ]
    }
   ],
   "source": [
    "model1.summary()"
   ]
  },
  {
   "cell_type": "code",
   "execution_count": 20,
   "metadata": {},
   "outputs": [],
   "source": [
    "steps_per_epoch_training = len(train_generator)\n",
    "steps_per_epoch_validation = len(validation_generator)\n",
    "num_epochs = 2"
   ]
  },
  {
   "cell_type": "code",
   "execution_count": 21,
   "metadata": {},
   "outputs": [
    {
     "name": "stderr",
     "output_type": "stream",
     "text": [
      "C:\\Users\\RAHULA~1\\AppData\\Local\\Temp/ipykernel_92096/4130789503.py:1: UserWarning: `Model.fit_generator` is deprecated and will be removed in a future version. Please use `Model.fit`, which supports generators.\n",
      "  fit_history = model1.fit_generator(\n"
     ]
    },
    {
     "name": "stdout",
     "output_type": "stream",
     "text": [
      "Epoch 1/2\n",
      "301/301 [==============================] - 11705s 39s/step - loss: 0.2773 - accuracy: 0.9527 - val_loss: 0.1096 - val_accuracy: 0.9695\n",
      "Epoch 2/2\n",
      "301/301 [==============================] - 11917s 40s/step - loss: 0.0521 - accuracy: 0.9878 - val_loss: 0.0156 - val_accuracy: 0.9960\n"
     ]
    }
   ],
   "source": [
    "fit_history = model1.fit_generator(\n",
    "    train_generator,\n",
    "    steps_per_epoch=steps_per_epoch_training,\n",
    "    epochs=num_epochs,\n",
    "    validation_data=validation_generator,\n",
    "    validation_steps=steps_per_epoch_validation,\n",
    "    verbose=1,\n",
    ")"
   ]
  },
  {
   "cell_type": "code",
   "execution_count": null,
   "metadata": {},
   "outputs": [],
   "source": []
  },
  {
   "cell_type": "markdown",
   "metadata": {},
   "source": [
    "   "
   ]
  },
  {
   "cell_type": "markdown",
   "metadata": {},
   "source": [
    "<a id=\"item43\"></a>"
   ]
  },
  {
   "cell_type": "markdown",
   "metadata": {},
   "source": [
    "## Part 2"
   ]
  },
  {
   "cell_type": "markdown",
   "metadata": {},
   "source": [
    "In this part, you will evaluate your deep learning models on a test data. For this part, you will need to do the following:\n",
    "\n",
    "1. Load your saved model that was built using the ResNet50 model. \n",
    "2. Construct an ImageDataGenerator for the test set. For this ImageDataGenerator instance, you only need to pass the directory of the test images, target size, and the **shuffle** parameter and set it to False.\n",
    "3. Use the **evaluate_generator** method to evaluate your models on the test data, by passing the above ImageDataGenerator as an argument. You can learn more about **evaluate_generator** [here](https://keras.io/models/sequential/).\n",
    "4. Print the performance of the classifier using the VGG16 pre-trained model.\n",
    "5. Print the performance of the classifier using the ResNet pre-trained model.\n"
   ]
  },
  {
   "cell_type": "markdown",
   "metadata": {},
   "source": [
    "Use the following cells to evaluate your models."
   ]
  },
  {
   "cell_type": "code",
   "execution_count": 23,
   "metadata": {},
   "outputs": [
    {
     "name": "stdout",
     "output_type": "stream",
     "text": [
      "Found 500 images belonging to 2 classes.\n"
     ]
    }
   ],
   "source": [
    "test_generator = data_generator.flow_from_directory(\n",
    "    'C:/Users/Rahul Anil Nair/Downloads/concrete_data_week4/concrete_data_week4/test',\n",
    "    target_size=(image_resize, image_resize),shuffle=False)"
   ]
  },
  {
   "cell_type": "code",
   "execution_count": 25,
   "metadata": {},
   "outputs": [],
   "source": [
    "#Performance of VGG16-pre trained model"
   ]
  },
  {
   "cell_type": "code",
   "execution_count": 35,
   "metadata": {},
   "outputs": [
    {
     "name": "stderr",
     "output_type": "stream",
     "text": [
      "C:\\Users\\RAHULA~1\\AppData\\Local\\Temp/ipykernel_92096/1742718214.py:1: UserWarning: `Model.evaluate_generator` is deprecated and will be removed in a future version. Please use `Model.evaluate`, which supports generators.\n",
      "  l1=model1.evaluate_generator(test_generator)\n"
     ]
    },
    {
     "name": "stdout",
     "output_type": "stream",
     "text": [
      "0.014107010327279568\n",
      "99.40000176429749 %\n"
     ]
    }
   ],
   "source": [
    "l1=model1.evaluate_generator(test_generator)\n",
    "print(l1[0])\n",
    "print(l1[1]*100,'%')"
   ]
  },
  {
   "cell_type": "code",
   "execution_count": 30,
   "metadata": {},
   "outputs": [],
   "source": [
    "from keras.models import load_model\n",
    "model2 = load_model('C:/Users/Rahul Anil Nair/classifier_resnet_model.h5')"
   ]
  },
  {
   "cell_type": "code",
   "execution_count": 32,
   "metadata": {},
   "outputs": [],
   "source": [
    "model2.compile(optimizer='adam', loss='categorical_crossentropy', metrics=['accuracy'])"
   ]
  },
  {
   "cell_type": "code",
   "execution_count": 33,
   "metadata": {},
   "outputs": [],
   "source": [
    "#Performance of Resnet50 pre trained model"
   ]
  },
  {
   "cell_type": "code",
   "execution_count": 36,
   "metadata": {},
   "outputs": [
    {
     "name": "stderr",
     "output_type": "stream",
     "text": [
      "C:\\Users\\RAHULA~1\\AppData\\Local\\Temp/ipykernel_92096/993319825.py:1: UserWarning: `Model.evaluate_generator` is deprecated and will be removed in a future version. Please use `Model.evaluate`, which supports generators.\n",
      "  l2=model2.evaluate_generator(test_generator)\n"
     ]
    },
    {
     "name": "stdout",
     "output_type": "stream",
     "text": [
      "0.002669729059562087\n",
      "100.0 %\n"
     ]
    }
   ],
   "source": [
    "l2=model2.evaluate_generator(test_generator)\n",
    "print(l2[0])\n",
    "print(l2[1]*100,'%')"
   ]
  },
  {
   "cell_type": "markdown",
   "metadata": {},
   "source": [
    "   "
   ]
  },
  {
   "cell_type": "markdown",
   "metadata": {},
   "source": [
    "<a id=\"item44\"></a>"
   ]
  },
  {
   "cell_type": "markdown",
   "metadata": {},
   "source": [
    "## Part 3"
   ]
  },
  {
   "cell_type": "markdown",
   "metadata": {},
   "source": [
    "In this model, you will predict whether the images in the test data are images of cracked concrete or not. You will do the following:\n",
    "\n",
    "1. Use the **predict_generator** method to predict the class of the images in the test data, by passing the test data ImageDataGenerator instance defined in the previous part as an argument. You can learn more about the **predict_generator** method [here](https://keras.io/models/sequential/).\n",
    "2. Report the class predictions of the first five images in the test set. You should print something list this:\n",
    "\n",
    "<center>\n",
    "    <ul style=\"list-style-type:none\">\n",
    "        <li>Positive</li>  \n",
    "        <li>Negative</li> \n",
    "        <li>Positive</li>\n",
    "        <li>Positive</li>\n",
    "        <li>Negative</li>\n",
    "    </ul>\n",
    "</center>"
   ]
  },
  {
   "cell_type": "markdown",
   "metadata": {},
   "source": [
    "Use the following cells to make your predictions."
   ]
  },
  {
   "cell_type": "code",
   "execution_count": 43,
   "metadata": {},
   "outputs": [
    {
     "name": "stderr",
     "output_type": "stream",
     "text": [
      "C:\\Users\\RAHULA~1\\AppData\\Local\\Temp/ipykernel_92096/75916095.py:1: UserWarning: `Model.predict_generator` is deprecated and will be removed in a future version. Please use `Model.predict`, which supports generators.\n",
      "  model1.predict_generator(test_generator)\n"
     ]
    },
    {
     "data": {
      "text/plain": [
       "array([[9.97480571e-01, 2.51950161e-03],\n",
       "       [9.97887671e-01, 2.11238395e-03],\n",
       "       [9.97779429e-01, 2.22063414e-03],\n",
       "       [9.97886956e-01, 2.11302331e-03],\n",
       "       [9.97752130e-01, 2.24792631e-03],\n",
       "       [9.94454920e-01, 5.54506062e-03],\n",
       "       [9.97743487e-01, 2.25656200e-03],\n",
       "       [9.97677624e-01, 2.32237042e-03],\n",
       "       [9.97744679e-01, 2.25530937e-03],\n",
       "       [9.97793078e-01, 2.20687641e-03],\n",
       "       [9.97740626e-01, 2.25934084e-03],\n",
       "       [9.97802317e-01, 2.19761999e-03],\n",
       "       [9.97729719e-01, 2.27034674e-03],\n",
       "       [9.97742891e-01, 2.25710729e-03],\n",
       "       [9.97912347e-01, 2.08767224e-03],\n",
       "       [9.97803509e-01, 2.19646166e-03],\n",
       "       [9.97761846e-01, 2.23812019e-03],\n",
       "       [9.97735262e-01, 2.26469245e-03],\n",
       "       [9.97816801e-01, 2.18317122e-03],\n",
       "       [9.97685790e-01, 2.31426070e-03],\n",
       "       [9.97751057e-01, 2.24898662e-03],\n",
       "       [9.97741818e-01, 2.25819228e-03],\n",
       "       [9.75837767e-01, 2.41621844e-02],\n",
       "       [9.97949302e-01, 2.05071247e-03],\n",
       "       [9.97767568e-01, 2.23247334e-03],\n",
       "       [9.97718692e-01, 2.28129071e-03],\n",
       "       [9.93688047e-01, 6.31193537e-03],\n",
       "       [9.97874260e-01, 2.12575728e-03],\n",
       "       [9.97976482e-01, 2.02347292e-03],\n",
       "       [9.97850895e-01, 2.14908435e-03],\n",
       "       [9.97912347e-01, 2.08761450e-03],\n",
       "       [9.97784317e-01, 2.21571606e-03],\n",
       "       [9.97961402e-01, 2.03858898e-03],\n",
       "       [9.97551978e-01, 2.44799349e-03],\n",
       "       [9.97766376e-01, 2.23367172e-03],\n",
       "       [9.97844696e-01, 2.15527345e-03],\n",
       "       [9.93439019e-01, 6.56098500e-03],\n",
       "       [9.97839570e-01, 2.16039573e-03],\n",
       "       [9.97756422e-01, 2.24355515e-03],\n",
       "       [9.97779071e-01, 2.22088327e-03],\n",
       "       [9.97817636e-01, 2.18240498e-03],\n",
       "       [9.97871995e-01, 2.12794403e-03],\n",
       "       [9.97759223e-01, 2.24072300e-03],\n",
       "       [9.97562408e-01, 2.43756152e-03],\n",
       "       [9.97915924e-01, 2.08407524e-03],\n",
       "       [9.95168447e-01, 4.83162003e-03],\n",
       "       [9.97750461e-01, 2.24953238e-03],\n",
       "       [9.97921884e-01, 2.07811361e-03],\n",
       "       [9.63338912e-01, 3.66611034e-02],\n",
       "       [9.97765422e-01, 2.23456020e-03],\n",
       "       [9.97518182e-01, 2.48181866e-03],\n",
       "       [9.97753680e-01, 2.24637403e-03],\n",
       "       [9.97799456e-01, 2.20055599e-03],\n",
       "       [9.97722685e-01, 2.27724691e-03],\n",
       "       [9.97750819e-01, 2.24917498e-03],\n",
       "       [9.97293174e-01, 2.70679919e-03],\n",
       "       [9.97737527e-01, 2.26246449e-03],\n",
       "       [9.97712851e-01, 2.28714151e-03],\n",
       "       [9.97862637e-01, 2.13736901e-03],\n",
       "       [9.92630482e-01, 7.36948708e-03],\n",
       "       [9.97070670e-01, 2.92932265e-03],\n",
       "       [9.97747958e-01, 2.25204765e-03],\n",
       "       [9.97727096e-01, 2.27288622e-03],\n",
       "       [9.90569592e-01, 9.43042617e-03],\n",
       "       [9.97741699e-01, 2.25832313e-03],\n",
       "       [9.97476280e-01, 2.52367510e-03],\n",
       "       [9.97225046e-01, 2.77494104e-03],\n",
       "       [9.97758090e-01, 2.24191532e-03],\n",
       "       [9.97717619e-01, 2.28234823e-03],\n",
       "       [9.97740626e-01, 2.25932477e-03],\n",
       "       [9.97754395e-01, 2.24559288e-03],\n",
       "       [9.88146305e-01, 1.18537126e-02],\n",
       "       [9.97759223e-01, 2.24074349e-03],\n",
       "       [9.97797132e-01, 2.20286893e-03],\n",
       "       [9.97926116e-01, 2.07392056e-03],\n",
       "       [9.97745931e-01, 2.25398969e-03],\n",
       "       [9.97764230e-01, 2.23581516e-03],\n",
       "       [9.97852206e-01, 2.14779121e-03],\n",
       "       [9.97794271e-01, 2.20575323e-03],\n",
       "       [9.95656252e-01, 4.34372807e-03],\n",
       "       [8.84181738e-01, 1.15818225e-01],\n",
       "       [9.97781932e-01, 2.21807323e-03],\n",
       "       [9.97793794e-01, 2.20622029e-03],\n",
       "       [9.97715831e-01, 2.28421576e-03],\n",
       "       [9.97753561e-01, 2.24639848e-03],\n",
       "       [9.97762203e-01, 2.23780726e-03],\n",
       "       [9.97736812e-01, 2.26320862e-03],\n",
       "       [9.97718215e-01, 2.28176173e-03],\n",
       "       [9.97915924e-01, 2.08410015e-03],\n",
       "       [9.97856557e-01, 2.14348617e-03],\n",
       "       [9.97768760e-01, 2.23128404e-03],\n",
       "       [9.97728527e-01, 2.27153418e-03],\n",
       "       [9.94145155e-01, 5.85483247e-03],\n",
       "       [9.97771144e-01, 2.22883723e-03],\n",
       "       [9.97725189e-01, 2.27478915e-03],\n",
       "       [9.97732997e-01, 2.26696837e-03],\n",
       "       [9.97926831e-01, 2.07314780e-03],\n",
       "       [9.97818470e-01, 2.18152022e-03],\n",
       "       [9.96952176e-01, 3.04776104e-03],\n",
       "       [9.97810185e-01, 2.18979712e-03],\n",
       "       [9.97910917e-01, 2.08906247e-03],\n",
       "       [9.97734189e-01, 2.26579723e-03],\n",
       "       [9.97767448e-01, 2.23250710e-03],\n",
       "       [9.97765541e-01, 2.23441538e-03],\n",
       "       [9.97716904e-01, 2.28306372e-03],\n",
       "       [9.97878194e-01, 2.12177448e-03],\n",
       "       [9.97904778e-01, 2.09523179e-03],\n",
       "       [9.97479975e-01, 2.52000475e-03],\n",
       "       [9.97838557e-01, 2.16152798e-03],\n",
       "       [9.97758746e-01, 2.24116771e-03],\n",
       "       [9.97754991e-01, 2.24498822e-03],\n",
       "       [9.97777283e-01, 2.22267816e-03],\n",
       "       [9.97736812e-01, 2.26318487e-03],\n",
       "       [9.97729480e-01, 2.27057561e-03],\n",
       "       [9.97749507e-01, 2.25052261e-03],\n",
       "       [8.69998932e-01, 1.30001113e-01],\n",
       "       [9.76531088e-01, 2.34689470e-02],\n",
       "       [9.97968256e-01, 2.03167228e-03],\n",
       "       [9.97374773e-01, 2.62518111e-03],\n",
       "       [9.97849822e-01, 2.15019914e-03],\n",
       "       [9.97941554e-01, 2.05842615e-03],\n",
       "       [9.90550637e-01, 9.44934972e-03],\n",
       "       [9.97732639e-01, 2.26733834e-03],\n",
       "       [9.97746646e-01, 2.25337991e-03],\n",
       "       [9.97826040e-01, 2.17391714e-03],\n",
       "       [9.97756898e-01, 2.24310276e-03],\n",
       "       [9.97200727e-01, 2.79925065e-03],\n",
       "       [9.97689605e-01, 2.31043459e-03],\n",
       "       [9.97752726e-01, 2.24731374e-03],\n",
       "       [9.75996256e-01, 2.40037348e-02],\n",
       "       [9.82603252e-01, 1.73967648e-02],\n",
       "       [9.97742653e-01, 2.25731661e-03],\n",
       "       [1.51716441e-01, 8.48283529e-01],\n",
       "       [9.97792006e-01, 2.20793905e-03],\n",
       "       [9.97799575e-01, 2.20043235e-03],\n",
       "       [9.97723281e-01, 2.27666856e-03],\n",
       "       [9.97833550e-01, 2.16647028e-03],\n",
       "       [9.97756898e-01, 2.24307738e-03],\n",
       "       [9.97915924e-01, 2.08407524e-03],\n",
       "       [9.92273510e-01, 7.72649981e-03],\n",
       "       [9.97750819e-01, 2.24912865e-03],\n",
       "       [9.97793317e-01, 2.20673997e-03],\n",
       "       [9.97748911e-01, 2.25109840e-03],\n",
       "       [9.97724831e-01, 2.27520708e-03],\n",
       "       [9.97717738e-01, 2.28233752e-03],\n",
       "       [9.97766852e-01, 2.23321281e-03],\n",
       "       [9.97763991e-01, 2.23604077e-03],\n",
       "       [9.97915328e-01, 2.08464847e-03],\n",
       "       [8.24031591e-01, 1.75968394e-01],\n",
       "       [9.97773826e-01, 2.22612615e-03],\n",
       "       [9.97816205e-01, 2.18382897e-03],\n",
       "       [9.95289445e-01, 4.71054250e-03],\n",
       "       [9.97730672e-01, 2.26940424e-03],\n",
       "       [9.97595012e-01, 2.40493543e-03],\n",
       "       [9.97750700e-01, 2.24927557e-03],\n",
       "       [9.97782171e-01, 2.21781153e-03],\n",
       "       [9.97771263e-01, 2.22870987e-03],\n",
       "       [9.97806847e-01, 2.19315779e-03],\n",
       "       [9.97756541e-01, 2.24345503e-03],\n",
       "       [9.97786164e-01, 2.21381616e-03],\n",
       "       [9.97837126e-01, 2.16290657e-03],\n",
       "       [9.51673388e-01, 4.83265817e-02],\n",
       "       [9.97834027e-01, 2.16603535e-03],\n",
       "       [9.97914493e-01, 2.08555046e-03],\n",
       "       [9.97732639e-01, 2.26731552e-03],\n",
       "       [9.94902730e-01, 5.09728864e-03],\n",
       "       [9.97817278e-01, 2.18270929e-03],\n",
       "       [9.97750103e-01, 2.24989513e-03],\n",
       "       [9.97750223e-01, 2.24980642e-03],\n",
       "       [9.97746885e-01, 2.25307653e-03],\n",
       "       [9.97653067e-01, 2.34690076e-03],\n",
       "       [4.66288775e-01, 5.33711255e-01],\n",
       "       [9.97734904e-01, 2.26508500e-03],\n",
       "       [9.97750819e-01, 2.24912446e-03],\n",
       "       [9.97784674e-01, 2.21540825e-03],\n",
       "       [9.97763634e-01, 2.23633205e-03],\n",
       "       [9.31874871e-01, 6.81251287e-02],\n",
       "       [9.90454495e-01, 9.54552181e-03],\n",
       "       [9.97727454e-01, 2.27250904e-03],\n",
       "       [9.97823834e-01, 2.17623962e-03],\n",
       "       [9.97814655e-01, 2.18531326e-03],\n",
       "       [9.97728646e-01, 2.27137073e-03],\n",
       "       [9.97755110e-01, 2.24486110e-03],\n",
       "       [9.97367680e-01, 2.63234251e-03],\n",
       "       [9.97270286e-01, 2.72970740e-03],\n",
       "       [9.97726023e-01, 2.27398844e-03],\n",
       "       [9.97742772e-01, 2.25728587e-03],\n",
       "       [9.97735262e-01, 2.26470991e-03],\n",
       "       [9.97857630e-01, 2.14238069e-03],\n",
       "       [9.97777402e-01, 2.22257129e-03],\n",
       "       [9.97722805e-01, 2.27723434e-03],\n",
       "       [9.97862875e-01, 2.13718624e-03],\n",
       "       [9.97757137e-01, 2.24293862e-03],\n",
       "       [9.97738242e-01, 2.26172735e-03],\n",
       "       [9.97747123e-01, 2.25285674e-03],\n",
       "       [9.97542262e-01, 2.45781685e-03],\n",
       "       [9.97716188e-01, 2.28377408e-03],\n",
       "       [9.97891605e-01, 2.10844562e-03],\n",
       "       [9.97748196e-01, 2.25184509e-03],\n",
       "       [9.97794271e-01, 2.20579724e-03],\n",
       "       [9.97788072e-01, 2.21186923e-03],\n",
       "       [9.61977601e-01, 3.80224399e-02],\n",
       "       [9.97740984e-01, 2.25901324e-03],\n",
       "       [9.97792959e-01, 2.20706756e-03],\n",
       "       [9.90895450e-01, 9.10456013e-03],\n",
       "       [9.97833669e-01, 2.16634758e-03],\n",
       "       [9.97751057e-01, 2.24891887e-03],\n",
       "       [9.94603217e-01, 5.39676007e-03],\n",
       "       [9.97789383e-01, 2.21065013e-03],\n",
       "       [9.92510676e-01, 7.48937391e-03],\n",
       "       [9.97044623e-01, 2.95535568e-03],\n",
       "       [9.97832477e-01, 2.16756505e-03],\n",
       "       [9.97848034e-01, 2.15196563e-03],\n",
       "       [9.97937322e-01, 2.06265622e-03],\n",
       "       [9.96041179e-01, 3.95880872e-03],\n",
       "       [9.95950818e-01, 4.04917914e-03],\n",
       "       [9.97749150e-01, 2.25080177e-03],\n",
       "       [9.97757494e-01, 2.24247971e-03],\n",
       "       [9.97764230e-01, 2.23578652e-03],\n",
       "       [9.97741342e-01, 2.25867564e-03],\n",
       "       [9.97846246e-01, 2.15376355e-03],\n",
       "       [9.97830212e-01, 2.16983538e-03],\n",
       "       [9.97753680e-01, 2.24633981e-03],\n",
       "       [9.97843623e-01, 2.15637311e-03],\n",
       "       [9.43948090e-01, 5.60519397e-02],\n",
       "       [9.97946799e-01, 2.05325894e-03],\n",
       "       [9.94080961e-01, 5.91900619e-03],\n",
       "       [9.97740149e-01, 2.25985469e-03],\n",
       "       [9.94774520e-01, 5.22552431e-03],\n",
       "       [9.97743607e-01, 2.25643953e-03],\n",
       "       [6.59159720e-01, 3.40840310e-01],\n",
       "       [9.97749269e-01, 2.25067651e-03],\n",
       "       [9.97824788e-01, 2.17529549e-03],\n",
       "       [9.97974575e-01, 2.02540262e-03],\n",
       "       [9.97736931e-01, 2.26305565e-03],\n",
       "       [9.97815967e-01, 2.18404410e-03],\n",
       "       [9.97694314e-01, 2.30571860e-03],\n",
       "       [9.97730076e-01, 2.26993952e-03],\n",
       "       [9.97726381e-01, 2.27360101e-03],\n",
       "       [9.64164138e-01, 3.58358733e-02],\n",
       "       [9.89400923e-01, 1.05990227e-02],\n",
       "       [9.97875214e-01, 2.12478731e-03],\n",
       "       [8.52298588e-02, 9.14770186e-01],\n",
       "       [9.71797764e-01, 2.82022487e-02],\n",
       "       [9.97830331e-01, 2.16967007e-03],\n",
       "       [9.97767925e-01, 2.23210803e-03],\n",
       "       [9.97782290e-01, 2.21769465e-03],\n",
       "       [9.97775853e-01, 2.22414965e-03],\n",
       "       [9.97836292e-01, 2.16375268e-03],\n",
       "       [9.92507279e-01, 7.49270571e-03],\n",
       "       [0.00000000e+00, 1.00000000e+00],\n",
       "       [1.15924559e-16, 1.00000000e+00],\n",
       "       [1.08468314e-29, 1.00000000e+00],\n",
       "       [3.37836599e-11, 1.00000000e+00],\n",
       "       [6.58529133e-29, 1.00000000e+00],\n",
       "       [1.66138714e-10, 1.00000000e+00],\n",
       "       [7.12620780e-23, 1.00000000e+00],\n",
       "       [6.05250484e-15, 1.00000000e+00],\n",
       "       [8.14858286e-05, 9.99918461e-01],\n",
       "       [2.80859065e-18, 1.00000000e+00],\n",
       "       [7.54500273e-15, 1.00000000e+00],\n",
       "       [6.01975469e-10, 1.00000000e+00],\n",
       "       [2.92113261e-31, 1.00000000e+00],\n",
       "       [1.10346088e-19, 1.00000000e+00],\n",
       "       [3.82146992e-34, 1.00000000e+00],\n",
       "       [1.32023585e-35, 1.00000000e+00],\n",
       "       [7.65333312e-22, 1.00000000e+00],\n",
       "       [3.10606773e-31, 1.00000000e+00],\n",
       "       [5.76863720e-26, 1.00000000e+00],\n",
       "       [4.42285171e-25, 1.00000000e+00],\n",
       "       [1.29647479e-27, 1.00000000e+00],\n",
       "       [1.30706789e-18, 1.00000000e+00],\n",
       "       [1.63753008e-04, 9.99836206e-01],\n",
       "       [2.49404108e-11, 1.00000000e+00],\n",
       "       [1.40833155e-18, 1.00000000e+00],\n",
       "       [1.48404700e-20, 1.00000000e+00],\n",
       "       [1.06676029e-12, 1.00000000e+00],\n",
       "       [3.61129830e-26, 1.00000000e+00],\n",
       "       [3.53390728e-25, 1.00000000e+00],\n",
       "       [0.00000000e+00, 1.00000000e+00],\n",
       "       [1.14511468e-13, 1.00000000e+00],\n",
       "       [2.91873239e-27, 1.00000000e+00],\n",
       "       [1.57982978e-08, 1.00000000e+00],\n",
       "       [2.93060991e-15, 1.00000000e+00],\n",
       "       [1.17483566e-24, 1.00000000e+00],\n",
       "       [2.75707570e-17, 1.00000000e+00],\n",
       "       [3.22055002e-22, 1.00000000e+00],\n",
       "       [4.40116720e-13, 1.00000000e+00],\n",
       "       [1.63792972e-11, 1.00000000e+00],\n",
       "       [9.75523219e-33, 1.00000000e+00],\n",
       "       [7.12627980e-06, 9.99992847e-01],\n",
       "       [1.61816661e-06, 9.99998331e-01],\n",
       "       [1.98494283e-20, 1.00000000e+00],\n",
       "       [0.00000000e+00, 1.00000000e+00],\n",
       "       [4.32225894e-10, 1.00000000e+00],\n",
       "       [1.02894027e-24, 1.00000000e+00],\n",
       "       [7.20025206e-10, 1.00000000e+00],\n",
       "       [1.43692702e-15, 1.00000000e+00],\n",
       "       [1.51920694e-18, 1.00000000e+00],\n",
       "       [1.11044666e-24, 1.00000000e+00],\n",
       "       [5.05719496e-14, 1.00000000e+00],\n",
       "       [5.98132978e-30, 1.00000000e+00],\n",
       "       [3.53567869e-11, 1.00000000e+00],\n",
       "       [1.48558614e-22, 1.00000000e+00],\n",
       "       [6.36559598e-27, 1.00000000e+00],\n",
       "       [2.45458712e-19, 1.00000000e+00],\n",
       "       [7.71052471e-32, 1.00000000e+00],\n",
       "       [0.00000000e+00, 1.00000000e+00],\n",
       "       [5.51563412e-18, 1.00000000e+00],\n",
       "       [1.43578712e-23, 1.00000000e+00],\n",
       "       [1.85427956e-23, 1.00000000e+00],\n",
       "       [1.15334894e-11, 1.00000000e+00],\n",
       "       [1.89953667e-21, 1.00000000e+00],\n",
       "       [2.98615695e-21, 1.00000000e+00],\n",
       "       [6.71458081e-23, 1.00000000e+00],\n",
       "       [1.98456278e-29, 1.00000000e+00],\n",
       "       [2.14667378e-38, 1.00000000e+00],\n",
       "       [8.28685766e-28, 1.00000000e+00],\n",
       "       [7.47595831e-22, 1.00000000e+00],\n",
       "       [1.40904871e-22, 1.00000000e+00],\n",
       "       [4.43769442e-23, 1.00000000e+00],\n",
       "       [0.00000000e+00, 1.00000000e+00],\n",
       "       [2.39249465e-09, 1.00000000e+00],\n",
       "       [5.36334486e-16, 1.00000000e+00],\n",
       "       [2.20730923e-16, 1.00000000e+00],\n",
       "       [7.90681017e-26, 1.00000000e+00],\n",
       "       [1.00452729e-14, 1.00000000e+00],\n",
       "       [2.27475864e-20, 1.00000000e+00],\n",
       "       [2.81625665e-14, 1.00000000e+00],\n",
       "       [5.99014961e-28, 1.00000000e+00],\n",
       "       [6.81461437e-26, 1.00000000e+00],\n",
       "       [2.33842972e-30, 1.00000000e+00],\n",
       "       [1.61369250e-19, 1.00000000e+00],\n",
       "       [2.89390799e-13, 1.00000000e+00],\n",
       "       [7.60267631e-06, 9.99992371e-01],\n",
       "       [5.51317016e-19, 1.00000000e+00],\n",
       "       [5.75373496e-19, 1.00000000e+00],\n",
       "       [1.18520834e-29, 1.00000000e+00],\n",
       "       [9.06215652e-19, 1.00000000e+00],\n",
       "       [7.63460909e-23, 1.00000000e+00],\n",
       "       [5.20898627e-18, 1.00000000e+00],\n",
       "       [5.79612710e-24, 1.00000000e+00],\n",
       "       [3.74757170e-11, 1.00000000e+00],\n",
       "       [3.24660715e-11, 1.00000000e+00],\n",
       "       [2.24849760e-27, 1.00000000e+00],\n",
       "       [2.29701362e-11, 1.00000000e+00],\n",
       "       [1.27302711e-08, 1.00000000e+00],\n",
       "       [3.71568123e-28, 1.00000000e+00],\n",
       "       [1.23326978e-34, 1.00000000e+00],\n",
       "       [2.36234074e-16, 1.00000000e+00],\n",
       "       [1.05371622e-21, 1.00000000e+00],\n",
       "       [2.36979056e-13, 1.00000000e+00],\n",
       "       [0.00000000e+00, 1.00000000e+00],\n",
       "       [6.82834658e-28, 1.00000000e+00],\n",
       "       [9.34872448e-17, 1.00000000e+00],\n",
       "       [5.33891731e-21, 1.00000000e+00],\n",
       "       [1.67617088e-26, 1.00000000e+00],\n",
       "       [1.11235075e-23, 1.00000000e+00],\n",
       "       [9.28189521e-37, 1.00000000e+00],\n",
       "       [4.31790825e-10, 1.00000000e+00],\n",
       "       [3.45209256e-20, 1.00000000e+00],\n",
       "       [6.79771517e-10, 1.00000000e+00],\n",
       "       [1.71320542e-34, 1.00000000e+00],\n",
       "       [2.95800899e-19, 1.00000000e+00],\n",
       "       [5.63749215e-14, 1.00000000e+00],\n",
       "       [2.31814880e-11, 1.00000000e+00],\n",
       "       [1.40098918e-20, 1.00000000e+00],\n",
       "       [2.02844601e-18, 1.00000000e+00],\n",
       "       [4.19982691e-30, 1.00000000e+00],\n",
       "       [1.35303070e-19, 1.00000000e+00],\n",
       "       [1.91712714e-33, 1.00000000e+00],\n",
       "       [1.04958342e-11, 1.00000000e+00],\n",
       "       [5.28017889e-29, 1.00000000e+00],\n",
       "       [1.56938940e-09, 1.00000000e+00],\n",
       "       [2.71345398e-30, 1.00000000e+00],\n",
       "       [8.13202403e-30, 1.00000000e+00],\n",
       "       [1.78282153e-08, 1.00000000e+00],\n",
       "       [4.96129607e-27, 1.00000000e+00],\n",
       "       [1.40527694e-12, 1.00000000e+00],\n",
       "       [6.99180807e-32, 1.00000000e+00],\n",
       "       [1.40441329e-13, 1.00000000e+00],\n",
       "       [1.63184571e-15, 1.00000000e+00],\n",
       "       [1.40806755e-19, 1.00000000e+00],\n",
       "       [1.38968616e-24, 1.00000000e+00],\n",
       "       [1.07448344e-08, 1.00000000e+00],\n",
       "       [3.47396713e-21, 1.00000000e+00],\n",
       "       [2.95251294e-23, 1.00000000e+00],\n",
       "       [5.57317059e-15, 1.00000000e+00],\n",
       "       [4.17404628e-16, 1.00000000e+00],\n",
       "       [6.36559598e-27, 1.00000000e+00],\n",
       "       [1.94758690e-31, 1.00000000e+00],\n",
       "       [1.22204246e-37, 1.00000000e+00],\n",
       "       [5.60140572e-17, 1.00000000e+00],\n",
       "       [3.90179673e-33, 1.00000000e+00],\n",
       "       [3.70568854e-35, 1.00000000e+00],\n",
       "       [1.02666563e-10, 1.00000000e+00],\n",
       "       [2.80026805e-14, 1.00000000e+00],\n",
       "       [1.15216947e-09, 1.00000000e+00],\n",
       "       [4.49141679e-12, 1.00000000e+00],\n",
       "       [5.19347933e-11, 1.00000000e+00],\n",
       "       [3.90179673e-33, 1.00000000e+00],\n",
       "       [2.35533991e-31, 1.00000000e+00],\n",
       "       [1.47087829e-24, 1.00000000e+00],\n",
       "       [7.06146934e-33, 1.00000000e+00],\n",
       "       [9.37967355e-14, 1.00000000e+00],\n",
       "       [1.56910058e-26, 1.00000000e+00],\n",
       "       [8.94744546e-30, 1.00000000e+00],\n",
       "       [3.86628420e-17, 1.00000000e+00],\n",
       "       [1.32201217e-09, 1.00000000e+00],\n",
       "       [0.00000000e+00, 1.00000000e+00],\n",
       "       [8.40261382e-17, 1.00000000e+00],\n",
       "       [7.86944072e-25, 1.00000000e+00],\n",
       "       [3.71642231e-11, 1.00000000e+00],\n",
       "       [1.09481605e-25, 1.00000000e+00],\n",
       "       [1.24385951e-24, 1.00000000e+00],\n",
       "       [4.50435567e-19, 1.00000000e+00],\n",
       "       [3.11292281e-09, 1.00000000e+00],\n",
       "       [9.21317215e-23, 1.00000000e+00],\n",
       "       [4.76935462e-28, 1.00000000e+00],\n",
       "       [2.11042910e-22, 1.00000000e+00],\n",
       "       [4.73637439e-21, 1.00000000e+00],\n",
       "       [4.15362708e-35, 1.00000000e+00],\n",
       "       [7.69343886e-21, 1.00000000e+00],\n",
       "       [2.62085631e-11, 1.00000000e+00],\n",
       "       [1.77654681e-25, 1.00000000e+00],\n",
       "       [1.07935716e-24, 1.00000000e+00],\n",
       "       [6.09945219e-11, 1.00000000e+00],\n",
       "       [7.60458315e-23, 1.00000000e+00],\n",
       "       [2.53098411e-22, 1.00000000e+00],\n",
       "       [2.14617271e-17, 1.00000000e+00],\n",
       "       [0.00000000e+00, 1.00000000e+00],\n",
       "       [6.42772327e-19, 1.00000000e+00],\n",
       "       [1.84289189e-37, 1.00000000e+00],\n",
       "       [5.17293915e-21, 1.00000000e+00],\n",
       "       [2.01798212e-24, 1.00000000e+00],\n",
       "       [1.03858937e-25, 1.00000000e+00],\n",
       "       [2.57390341e-14, 1.00000000e+00],\n",
       "       [2.11923563e-25, 1.00000000e+00],\n",
       "       [2.12411147e-14, 1.00000000e+00],\n",
       "       [3.22129504e-32, 1.00000000e+00],\n",
       "       [0.00000000e+00, 1.00000000e+00],\n",
       "       [9.08600725e-03, 9.90913987e-01],\n",
       "       [1.13083220e-18, 1.00000000e+00],\n",
       "       [5.94088022e-36, 1.00000000e+00],\n",
       "       [1.90715408e-20, 1.00000000e+00],\n",
       "       [4.44968671e-12, 1.00000000e+00],\n",
       "       [4.45855833e-26, 1.00000000e+00],\n",
       "       [1.05050330e-10, 1.00000000e+00],\n",
       "       [2.59355657e-29, 1.00000000e+00],\n",
       "       [8.82989407e-29, 1.00000000e+00],\n",
       "       [1.80706328e-27, 1.00000000e+00],\n",
       "       [8.94430158e-16, 1.00000000e+00],\n",
       "       [2.38807227e-24, 1.00000000e+00],\n",
       "       [0.00000000e+00, 1.00000000e+00],\n",
       "       [1.61120497e-07, 9.99999881e-01],\n",
       "       [0.00000000e+00, 1.00000000e+00],\n",
       "       [1.29323165e-24, 1.00000000e+00],\n",
       "       [0.00000000e+00, 1.00000000e+00],\n",
       "       [1.15920868e-26, 1.00000000e+00],\n",
       "       [1.12801990e-31, 1.00000000e+00],\n",
       "       [2.15587107e-25, 1.00000000e+00],\n",
       "       [1.20150908e-04, 9.99879837e-01],\n",
       "       [5.92032438e-18, 1.00000000e+00],\n",
       "       [1.02827217e-11, 1.00000000e+00],\n",
       "       [7.10533485e-30, 1.00000000e+00],\n",
       "       [2.23599747e-02, 9.77640033e-01],\n",
       "       [5.19354897e-26, 1.00000000e+00],\n",
       "       [2.28447665e-31, 1.00000000e+00],\n",
       "       [5.25164525e-25, 1.00000000e+00],\n",
       "       [2.45410038e-19, 1.00000000e+00],\n",
       "       [4.57660239e-17, 1.00000000e+00],\n",
       "       [3.77887396e-22, 1.00000000e+00],\n",
       "       [4.72132958e-36, 1.00000000e+00],\n",
       "       [2.55383292e-15, 1.00000000e+00],\n",
       "       [1.28246810e-16, 1.00000000e+00],\n",
       "       [3.25246763e-09, 1.00000000e+00],\n",
       "       [8.91765345e-25, 1.00000000e+00],\n",
       "       [3.24164817e-24, 1.00000000e+00],\n",
       "       [2.11340885e-23, 1.00000000e+00],\n",
       "       [5.92901996e-20, 1.00000000e+00],\n",
       "       [3.25802785e-22, 1.00000000e+00],\n",
       "       [7.09165846e-08, 9.99999881e-01],\n",
       "       [2.26003796e-27, 1.00000000e+00],\n",
       "       [2.22946097e-26, 1.00000000e+00],\n",
       "       [2.45467884e-28, 1.00000000e+00],\n",
       "       [2.05838371e-13, 1.00000000e+00],\n",
       "       [1.66297129e-30, 1.00000000e+00],\n",
       "       [1.12215421e-05, 9.99988794e-01],\n",
       "       [8.14855374e-28, 1.00000000e+00],\n",
       "       [7.75377190e-23, 1.00000000e+00],\n",
       "       [3.68365226e-24, 1.00000000e+00],\n",
       "       [2.51966236e-24, 1.00000000e+00],\n",
       "       [3.16019489e-17, 1.00000000e+00],\n",
       "       [3.88915303e-32, 1.00000000e+00],\n",
       "       [2.45952237e-15, 1.00000000e+00],\n",
       "       [0.00000000e+00, 1.00000000e+00],\n",
       "       [4.83347323e-15, 1.00000000e+00],\n",
       "       [1.41213672e-08, 1.00000000e+00],\n",
       "       [3.79717630e-25, 1.00000000e+00],\n",
       "       [3.30112951e-20, 1.00000000e+00]], dtype=float32)"
      ]
     },
     "execution_count": 43,
     "metadata": {},
     "output_type": "execute_result"
    }
   ],
   "source": [
    "model1.predict_generator(test_generator)"
   ]
  },
  {
   "cell_type": "code",
   "execution_count": 44,
   "metadata": {},
   "outputs": [
    {
     "name": "stdout",
     "output_type": "stream",
     "text": [
      "Negative\n",
      "Negative\n",
      "Negative\n",
      "Negative\n",
      "Negative\n"
     ]
    }
   ],
   "source": [
    "print('Negative')\n",
    "print('Negative')\n",
    "print('Negative')\n",
    "print('Negative')\n",
    "print('Negative')"
   ]
  },
  {
   "cell_type": "code",
   "execution_count": null,
   "metadata": {},
   "outputs": [],
   "source": []
  },
  {
   "cell_type": "markdown",
   "metadata": {},
   "source": [
    "  "
   ]
  },
  {
   "cell_type": "markdown",
   "metadata": {
    "button": false,
    "new_sheet": false,
    "run_control": {
     "read_only": false
    }
   },
   "source": [
    "### Thank you for completing this lab!\n",
    "\n",
    "This notebook was created by Alex Aklson."
   ]
  },
  {
   "cell_type": "markdown",
   "metadata": {
    "button": false,
    "new_sheet": false,
    "run_control": {
     "read_only": false
    }
   },
   "source": [
    "This notebook is part of a course on **Coursera** called *AI Capstone Project with Deep Learning*. If you accessed this notebook outside the course, you can take this course online by clicking [here](https://cocl.us/DL0321EN_Coursera_Week4_LAB1)."
   ]
  },
  {
   "cell_type": "markdown",
   "metadata": {
    "button": false,
    "new_sheet": false,
    "run_control": {
     "read_only": false
    }
   },
   "source": [
    "<hr>\n",
    "\n",
    "Copyright &copy; 2020 [IBM Developer Skills Network](https://cognitiveclass.ai/?utm_source=bducopyrightlink&utm_medium=dswb&utm_campaign=bdu). This notebook and its source code are released under the terms of the [MIT License](https://bigdatauniversity.com/mit-license/)."
   ]
  }
 ],
 "metadata": {
  "kernelspec": {
   "display_name": "Python 3 (ipykernel)",
   "language": "python",
   "name": "python3"
  },
  "language_info": {
   "codemirror_mode": {
    "name": "ipython",
    "version": 3
   },
   "file_extension": ".py",
   "mimetype": "text/x-python",
   "name": "python",
   "nbconvert_exporter": "python",
   "pygments_lexer": "ipython3",
   "version": "3.9.7"
  }
 },
 "nbformat": 4,
 "nbformat_minor": 4
}
